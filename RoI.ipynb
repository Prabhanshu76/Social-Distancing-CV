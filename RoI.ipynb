{
 "cells": [
  {
   "cell_type": "code",
   "execution_count": 1,
   "metadata": {},
   "outputs": [],
   "source": [
    "import cv2\n",
    "import os\n",
    "import argparse\n",
    "import numpy as np\n"
   ]
  },
  {
   "cell_type": "code",
   "execution_count": 2,
   "metadata": {},
   "outputs": [],
   "source": [
    "mouse_pts = []\n",
    "\n",
    "\n",
    "def get_mouse_points(event, x, y, flags, param):\n",
    "    global mouseX, mouseY, mouse_pts\n",
    "    if event == cv2.EVENT_LBUTTONDOWN:\n",
    "        mouseX, mouseY = x, y\n",
    "        cv2.circle(image, (x, y), 10, (0, 255, 255), 10)\n",
    "        if \"mouse_pts\" not in globals():\n",
    "            mouse_pts = []\n",
    "        mouse_pts.append((x, y))\n",
    "        print(\"Point detected\")\n",
    "        print(mouse_pts)"
   ]
  },
  {
   "cell_type": "code",
   "execution_count": 3,
   "metadata": {},
   "outputs": [],
   "source": [
    "input_video = \"TownCentrr.mp4\"\n",
    "cap = cv2.VideoCapture(input_video)\n",
    "height = int(cap.get(cv2.CAP_PROP_FRAME_HEIGHT))\n",
    "width = int(cap.get(cv2.CAP_PROP_FRAME_WIDTH))\n",
    "fps = int(cap.get(cv2.CAP_PROP_FPS))\n",
    "scale_w = 1.2 / 2\n",
    "scale_h = 4 / 2\n",
    "\n",
    "SOLID_BACK_COLOR = (41, 41, 41)\n",
    "frame_num = 0\n",
    "cv2.namedWindow(\"image\")\n",
    "cv2.setMouseCallback(\"image\", get_mouse_points)\n",
    "num_mouse_points = 0\n",
    "first_frame_display = True"
   ]
  },
  {
   "cell_type": "code",
   "execution_count": 4,
   "metadata": {},
   "outputs": [
    {
     "name": "stdout",
     "output_type": "stream",
     "text": [
      "Point detected\n",
      "[(424, 4)]\n",
      "Point detected\n",
      "[(424, 4), (711, 5)]\n",
      "Point detected\n",
      "[(424, 4), (711, 5), (0, 217)]\n",
      "Point detected\n",
      "[(424, 4), (711, 5), (0, 217), (711, 467)]\n",
      "Point detected\n",
      "[(424, 4), (711, 5), (0, 217), (711, 467), (310, 118)]\n",
      "Point detected\n",
      "[(424, 4), (711, 5), (0, 217), (711, 467), (310, 118), (308, 181)]\n",
      "Point detected\n",
      "[(424, 4), (711, 5), (0, 217), (711, 467), (310, 118), (308, 181), (304, 286)]\n",
      "end of the video file...\n"
     ]
    }
   ],
   "source": [
    "while cap.isOpened():\n",
    "    frame_num += 1\n",
    "    ret, frame = cap.read()\n",
    "\n",
    "    if not ret:\n",
    "        print(\"end of the video file...\")\n",
    "        break\n",
    "\n",
    "    frame_h = frame.shape[0]\n",
    "    frame_w = frame.shape[1]\n",
    "\n",
    "    if frame_num == 1:\n",
    "        # Ask user to mark parallel points and two points 6 feet apart. Order bl, br, tr, tl, p1, p2\n",
    "        while True:\n",
    "            image = frame\n",
    "            cv2.imshow(\"image\", image)\n",
    "            cv2.waitKey(1)\n",
    "            if len(mouse_pts) == 7:\n",
    "                cv2.destroyWindow(\"image\")\n",
    "                break\n",
    "            first_frame_display = False\n",
    "        four_points = mouse_pts\n",
    "\n",
    "    # draw polygon of ROI\n",
    "    pts = np.array(\n",
    "        [four_points[0], four_points[1], four_points[3], four_points[2]], np.int32\n",
    "    )\n",
    "    cv2.polylines(frame, [pts], True, (0, 255, 255), thickness=4)\n",
    "\n",
    "\n",
    "    cv2.imshow(\"Street Cam\",frame)\n",
    "    #cv2.imshow(\"M\",M)\n",
    "    cv2.waitKey(1)\n"
   ]
  },
  {
   "cell_type": "code",
   "execution_count": null,
   "metadata": {},
   "outputs": [],
   "source": []
  }
 ],
 "metadata": {
  "kernelspec": {
   "display_name": "Python3.7",
   "language": "python",
   "name": "python3.7"
  },
  "language_info": {
   "codemirror_mode": {
    "name": "ipython",
    "version": 3
   },
   "file_extension": ".py",
   "mimetype": "text/x-python",
   "name": "python",
   "nbconvert_exporter": "python",
   "pygments_lexer": "ipython3",
   "version": "3.7.5"
  }
 },
 "nbformat": 4,
 "nbformat_minor": 4
}
