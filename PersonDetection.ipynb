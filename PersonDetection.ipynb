{
 "cells": [
  {
   "cell_type": "code",
   "execution_count": 1,
   "metadata": {},
   "outputs": [],
   "source": [
    "import cv2\n",
    "import numpy as np"
   ]
  },
  {
   "cell_type": "code",
   "execution_count": 2,
   "metadata": {},
   "outputs": [],
   "source": [
    "net=cv2.dnn.readNet( \"yolov3.weights\",\"yolov32.cfg\",)\n",
    "net.setPreferableBackend(cv2.dnn.DNN_BACKEND_CUDA)\n",
    "net.setPreferableTarget(cv2.dnn.DNN_TARGET_CUDA)\n",
    "classes=[]\n",
    "with open(\"coco1.names\",\"r\") as f:\n",
    "    classes=[line.strip() for line in f.readlines()]"
   ]
  },
  {
   "cell_type": "code",
   "execution_count": 3,
   "metadata": {},
   "outputs": [],
   "source": [
    "layer_names = net.getLayerNames()\n",
    "outputlayers = [layer_names[i[0]-1]for i in net.getUnconnectedOutLayers()]\n",
    "colors= np.random.uniform(0,255,size=(len(classes),3))"
   ]
  },
  {
   "cell_type": "code",
   "execution_count": 4,
   "metadata": {},
   "outputs": [],
   "source": [
    "cap=cv2.VideoCapture(\"vid_short.mp4\")\n",
    "center_x=0.0\n",
    "center_y=0.0\n",
    "font= cv2.FONT_HERSHEY_PLAIN\n",
    "while True:\n",
    "    _,frame= cap.read()\n",
    "    height,width,channels=frame.shape\n",
    "    blob=cv2.dnn.blobFromImage(frame,0.00392,(320,320),(0,0,0),True,crop=False)\n",
    "    \n",
    "    net.setInput(blob)\n",
    "    outs= net.forward(outputlayers)\n",
    "    \n",
    "    class_ids=[]\n",
    "    confidences=[]\n",
    "    boxes= []\n",
    "    for out in outs:\n",
    "        for detection in out:\n",
    "            scores= detection[5:]\n",
    "            class_id =np.argmax(scores)\n",
    "            confidence=scores[class_id]\n",
    "            if confidence > 0.1 and class_id == 0:\n",
    "                center_x=int(detection[0]*width)\n",
    "                center_y=int(detection[1]*height)\n",
    "                w=int(detection[2]*width)\n",
    "                h=int(detection[3]*height)\n",
    "                x=int(center_x -w/2)\n",
    "                y= int(center_y - h/2)\n",
    "                \n",
    "                boxes.append([x,y,w,h])\n",
    "                confidences.append(float(confidence))\n",
    "                class_ids.append(class_id)\n",
    "    indexes=cv2.dnn.NMSBoxes(boxes,confidences,0.4,0.6)\n",
    "    \n",
    "    for i in range(len(boxes)):\n",
    "        if i in indexes:\n",
    "            x,y,w,h= boxes[i]\n",
    "            x_c=int(x+w/2)\n",
    "            y_c=int(y+h/2)\n",
    "            label=str(classes[class_ids[i]])\n",
    "            confidence=confidences[i]\n",
    "            color=colors[class_ids[i]]\n",
    "            cv2.rectangle(frame,(x,y),(x+w,y+h),color,2)\n",
    "            #cv2.polylines(frame, [penta], True, (255,120,255),2)\n",
    "            #cv2.circle(result,(x_c, y_c), 1, (0,255,0), 4)\n",
    "            #cv2.circle(blankScreen,(x_c, y_c), 1, (0,255,0), 4)\n",
    "            cv2.putText(frame,label+\" \"+str(round(confidence,2)),(x,y+30),font,1,(255,255,255),2)\n",
    "            #cv2.circle(frame, (center_x,center_y), 1, (2), thickness)\n",
    "            \n",
    "    cv2.imshow(\"Image\",frame)\n",
    "    #cv2.imshow('frame12', blankScreen)\n",
    "    key=cv2.waitKey(1)\n",
    "    if key == 27:\n",
    "        break;\n",
    "        \n",
    "cap.release()\n",
    "cv2.destroyAllWindows()"
   ]
  },
  {
   "cell_type": "code",
   "execution_count": 1,
   "metadata": {},
   "outputs": [],
   "source": [
    "from scipy.spatial import distance\n",
    "diff= distance.euclidean([406, 652], [417, 717])"
   ]
  },
  {
   "cell_type": "code",
   "execution_count": 2,
   "metadata": {},
   "outputs": [
    {
     "data": {
      "text/plain": [
       "65.92419889539804"
      ]
     },
     "execution_count": 2,
     "metadata": {},
     "output_type": "execute_result"
    }
   ],
   "source": [
    "diff"
   ]
  },
  {
   "cell_type": "code",
   "execution_count": 3,
   "metadata": {},
   "outputs": [],
   "source": [
    "diff2= distance.euclidean((312, 183), (372, 269))"
   ]
  },
  {
   "cell_type": "code",
   "execution_count": 4,
   "metadata": {},
   "outputs": [
    {
     "data": {
      "text/plain": [
       "104.86181383134664"
      ]
     },
     "execution_count": 4,
     "metadata": {},
     "output_type": "execute_result"
    }
   ],
   "source": [
    "diff2"
   ]
  },
  {
   "cell_type": "code",
   "execution_count": null,
   "metadata": {},
   "outputs": [],
   "source": []
  }
 ],
 "metadata": {
  "kernelspec": {
   "display_name": "Python3.7",
   "language": "python",
   "name": "python3.7"
  },
  "language_info": {
   "codemirror_mode": {
    "name": "ipython",
    "version": 3
   },
   "file_extension": ".py",
   "mimetype": "text/x-python",
   "name": "python",
   "nbconvert_exporter": "python",
   "pygments_lexer": "ipython3",
   "version": "3.7.5"
  }
 },
 "nbformat": 4,
 "nbformat_minor": 4
}
