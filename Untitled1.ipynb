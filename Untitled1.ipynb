{
 "cells": [
  {
   "cell_type": "code",
   "execution_count": 1,
   "metadata": {},
   "outputs": [],
   "source": [
    "import cv2\n",
    "import numpy as np"
   ]
  },
  {
   "cell_type": "code",
   "execution_count": 5,
   "metadata": {},
   "outputs": [],
   "source": [
    "net=cv2.dnn.readNet( \"yolov3.weights\",\"yolov3.cfg\",)\n",
    "net.setPreferableBackend(cv2.dnn.DNN_BACKEND_CUDA)\n",
    "net.setPreferableTarget(cv2.dnn.DNN_TARGET_CUDA)\n",
    "classes=[]\n",
    "with open(\"coco.names\",\"r\") as f:\n",
    "    classes=[line.strip() for line in f.readlines()]"
   ]
  },
  {
   "cell_type": "code",
   "execution_count": 6,
   "metadata": {},
   "outputs": [],
   "source": [
    "layer_names = net.getLayerNames()\n",
    "outputlayers = [layer_names[i[0]-1]for i in net.getUnconnectedOutLayers()]\n",
    "colors= np.random.uniform(0,255,size=(len(classes),3))"
   ]
  },
  {
   "cell_type": "code",
   "execution_count": 7,
   "metadata": {},
   "outputs": [],
   "source": [
    "def get_camera_perspective(img, src_points=np.float32([ [629,0], [1245,4],[1110,661], [710,129]]) ):\n",
    "    IMAGE_H = img.shape[0]\n",
    "    IMAGE_W = img.shape[1]\n",
    "    src = np.float32(np.array(src_points))\n",
    "    dst = np.float32([[0, IMAGE_H], [IMAGE_W, IMAGE_H], [0, 0], [IMAGE_W, 0]])\n",
    "\n",
    "    M = cv2.getPerspectiveTransform(src, dst)\n",
    "    M_inv = cv2.getPerspectiveTransform(dst, src)\n",
    "\n",
    "    return M, M_inv"
   ]
  },
  {
   "cell_type": "code",
   "execution_count": 8,
   "metadata": {},
   "outputs": [],
   "source": [
    "def bdi(frame):\n",
    "    frame_h = frame.shape[0]\n",
    "    frame_w = frame.shape[1]\n",
    "    \n",
    "    solid_back_color = (41, 41, 41)\n",
    "\n",
    "    blank_image = np.zeros(\n",
    "        (int(frame_h * scale_h), int(frame_w * scale_w), 3), np.uint8\n",
    "    )\n",
    "    blank_image[:] = solid_back_color\n",
    "    warped_pts = []\n",
    "    return blank_image, warped_pts"
   ]
  },
  {
   "cell_type": "code",
   "execution_count": 9,
   "metadata": {},
   "outputs": [],
   "source": [
    "def plot_points_on_bird_eye_view(blank_image, warped_pts,mid_point_x,mid_point_y, M, scale_w, scale_h):\n",
    "    node_radius = 5\n",
    "    color_node = (192, 133, 156)\n",
    "    thickness_node = 10\n",
    "\n",
    "\n",
    "    pts = np.array([[[mid_point_x, mid_point_y]]], dtype=\"float32\")\n",
    "    warped_pt = cv2.perspectiveTransform(pts, M)[0][0]\n",
    "    warped_pt_scaled = [int(warped_pt[0] * scale_w), int(warped_pt[1] * scale_h)]\n",
    "\n",
    "    warped_pts.append(warped_pt_scaled)\n",
    "    bird_image = cv2.circle(\n",
    "            blank_image,\n",
    "            (warped_pt_scaled[0], warped_pt_scaled[1]),\n",
    "            node_radius,\n",
    "            color_node,\n",
    "            thickness_node,\n",
    "        )\n",
    "\n",
    "    return warped_pts, bird_image"
   ]
  },
  {
   "cell_type": "code",
   "execution_count": 10,
   "metadata": {},
   "outputs": [
    {
     "name": "stdout",
     "output_type": "stream",
     "text": [
      "test\n"
     ]
    }
   ],
   "source": [
    "print(\"test\")\n",
    "SOLID_BACK_COLOR = (41, 41, 41)"
   ]
  },
  {
   "cell_type": "code",
   "execution_count": 11,
   "metadata": {},
   "outputs": [],
   "source": [
    "cap=cv2.VideoCapture(\"TownCentrr.mp4\")\n",
    "font= cv2.FONT_HERSHEY_PLAIN\n",
    "scale_w = 1.2 / 2\n",
    "scale_h = 3 / 2\n",
    "while True:\n",
    "    _,frame= cap.read()\n",
    "    frame_h = frame.shape[0]\n",
    "    frame_w = frame.shape[1]\n",
    "    ###############################################################################################################################\n",
    "    four_points=np.float32([(424, 4), (711, 5), (0, 217), (711, 467), (310, 118), (308, 181), (304, 286)]) \n",
    "    # Get perspective\n",
    "    M, Minv = get_camera_perspective(frame, four_points[0:4])\n",
    "    pts = src = np.float32(np.array([four_points[4:]]))\n",
    "    warped_pt = cv2.perspectiveTransform(pts, M)[0]\n",
    "    d_thresh = np.sqrt((warped_pt[0][0] - warped_pt[1][0]) ** 2+ (warped_pt[0][1] - warped_pt[1][1]) ** 2)\n",
    "    bird_image = np.zeros((int(frame_h * scale_h), int(frame_w * scale_w), 3), np.uint8)\n",
    "    bird_image[:] = SOLID_BACK_COLOR\n",
    "    pedestrian_detect = frame\n",
    "    pts = np.array([four_points[0], four_points[1], four_points[3], four_points[2]], np.int32)\n",
    "    cv2.polylines(frame, [pts], True, (0, 255, 255), thickness=4)\n",
    "    ################################################################################################################################\n",
    "    \n",
    "    height,width,channels=frame.shape\n",
    "    blob=cv2.dnn.blobFromImage(frame,0.00392,(320,320),(0,0,0),True,crop=False)\n",
    "    \n",
    "    net.setInput(blob)\n",
    "    outs= net.forward(outputlayers)\n",
    "    \n",
    "    class_ids=[]\n",
    "    confidences=[]\n",
    "    boxes= []\n",
    "    blank_image, warped_pts=bdi(frame)\n",
    "    for out in outs:\n",
    "        for detection in out:\n",
    "            scores= detection[5:]\n",
    "            class_id =np.argmax(scores)\n",
    "            confidence=scores[class_id]\n",
    "            if confidence > 0.1 and class_id == 0:\n",
    "                center_x=int(detection[0]*width)\n",
    "                center_y=int(detection[1]*height)\n",
    "                w=int(detection[2]*width)\n",
    "                h=int(detection[3]*height)\n",
    "                x=int(center_x -w/2)\n",
    "                y= int(center_y - h/2)\n",
    "                \n",
    "                boxes.append([x,y,w,h])\n",
    "                confidences.append(float(confidence))\n",
    "                class_ids.append(class_id)\n",
    "    indexes=cv2.dnn.NMSBoxes(boxes,confidences,0.4,0.6)\n",
    "    \n",
    "    for i in range(len(boxes)):\n",
    "        if i in indexes:\n",
    "            x,y,w,h= boxes[i]\n",
    "            x_c=int(x+w/2)\n",
    "            y_c=int(y+h/2)\n",
    "            label=str(classes[class_ids[i]])\n",
    "            confidence=confidences[i]\n",
    "            color=colors[class_ids[i]]\n",
    "            cv2.rectangle(frame,(x,y),(x+w,y+h),color,2)\n",
    "            cv2.putText(frame,label+\" \"+str(round(confidence,2)),(x,y+30),font,1,(255,255,255),2)\n",
    "            warped_pts, bird_image = plot_points_on_bird_eye_view(blank_image, warped_pts,x_c,y_c, M, scale_w, scale_h)\n",
    "            \n",
    "    cv2.imshow(\"Image\",frame)\n",
    "    bird_image = cv2.flip(bird_image, 0 )\n",
    "    cv2.imshow(\"Bird Eye View\", bird_image)\n",
    "    #cv2.imshow('frame12', blankScreen)\n",
    "    key=cv2.waitKey(1)\n",
    "    if key == 27:\n",
    "        break;\n",
    "        \n",
    "cap.release()\n",
    "cv2.destroyAllWindows()"
   ]
  },
  {
   "cell_type": "code",
   "execution_count": null,
   "metadata": {},
   "outputs": [],
   "source": []
  }
 ],
 "metadata": {
  "kernelspec": {
   "display_name": "Python3.7",
   "language": "python",
   "name": "python3.7"
  },
  "language_info": {
   "codemirror_mode": {
    "name": "ipython",
    "version": 3
   },
   "file_extension": ".py",
   "mimetype": "text/x-python",
   "name": "python",
   "nbconvert_exporter": "python",
   "pygments_lexer": "ipython3",
   "version": "3.7.5"
  }
 },
 "nbformat": 4,
 "nbformat_minor": 4
}
